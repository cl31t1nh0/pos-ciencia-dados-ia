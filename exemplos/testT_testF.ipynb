{
 "cells": [
  {
   "metadata": {},
   "cell_type": "code",
   "outputs": [],
   "execution_count": null,
   "source": [
    "from scipy import stats\n",
    "import numpy as np\n",
    "\n",
    "# Exemplo de dados para dois grupos\n",
    "grupo1 = np.array([1, 0.8, 1.9, 1.1, 2.7])\n",
    "grupo2 = np.array([1.7, 2.5, 3, 2.2, 3.7, 1.9])\n",
    "grupo3 = np.array([1, 1.3, 3.2, 1.4, 1.3, 2])\n",
    "grupo4 = np.array([3.8, 2.8, 1.9, 3, 2.5])\n",
    "\n",
    "# Realiza o teste t\n",
    "t_stat, p_value = stats.ttest_ind(grupo1, grupo2)\n",
    "\n",
    "print(f\"Estatística t: {t_stat}, Valor p: {p_value}\")\n",
    "\n",
    "if p_value < 0.05:\n",
    "    print(\"Há uma diferença estatisticamente significativa entre as médias dos grupos.\")\n",
    "else:\n",
    "    print(\"Não há uma diferença estatisticamente significativa entre as médias dos grupos.\")"
   ],
   "id": "8323d4db112295e5"
  },
  {
   "metadata": {},
   "cell_type": "code",
   "outputs": [],
   "execution_count": null,
   "source": [
    "from scipy import stats\n",
    "\n",
    "# Exemplo de dados para três grupos\n",
    "grupo1 = np.array([1, 0.8, 1.9, 1.1, 2.7])\n",
    "grupo2 = np.array([1.7, 2.5, 3, 2.2, 3.7, 1.9])\n",
    "grupo3 = np.array([1, 1.3, 3.2, 1.4, 1.3, 2])\n",
    "grupo4 = np.array([3.8, 2.8, 1.9, 3, 2.5])\n",
    "\n",
    "# Realiza o teste F (ANOVA)\n",
    "f_statistic, p_value_f = stats.f_oneway(grupo1, grupo2, grupo3, grupo4)\n",
    "\n",
    "print(f\"Estatística F: {f_statistic}, Valor p: {p_value_f}\")\n",
    "\n",
    "if p_value_f < 0.05:\n",
    "    print(\"Há uma diferença estatisticamente significativa entre as médias de pelo menos um grupo.\")\n",
    "else:\n",
    "    print(\"Não há uma diferença estatisticamente significativa entre as médias dos grupos.\")"
   ],
   "id": "9ddeb82b881c13e9"
  },
  {
   "metadata": {},
   "cell_type": "code",
   "outputs": [],
   "execution_count": null,
   "source": "",
   "id": "bed679f7ab57b527"
  }
 ],
 "metadata": {},
 "nbformat": 4,
 "nbformat_minor": 5
}
