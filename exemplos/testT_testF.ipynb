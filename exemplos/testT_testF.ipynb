{
 "cells": [
  {
   "metadata": {
    "ExecuteTime": {
     "end_time": "2025-08-30T18:45:33.609904Z",
     "start_time": "2025-08-30T18:45:32.934566Z"
    }
   },
   "cell_type": "code",
   "source": [
    "from scipy import stats\n",
    "import numpy as np\n",
    "\n",
    "# Exemplo de dados para dois grupos\n",
    "grupo1 = np.array([1, 0.8, 1.9, 1.1, 2.7])\n",
    "grupo2 = np.array([1.7, 2.5, 3, 2.2, 3.7, 1.9])\n",
    "grupo3 = np.array([1, 1.3, 3.2, 1.4, 1.3, 2])\n",
    "grupo4 = np.array([3.8, 2.8, 1.9, 3, 2.5])\n",
    "\n",
    "# Realiza o teste t\n",
    "t_stat, p_value = stats.ttest_ind(grupo1, grupo2)\n",
    "\n",
    "print(f\"Estatística t: {t_stat}, Valor p: {p_value}\")\n",
    "\n",
    "if p_value < 0.05:\n",
    "    print(\"Há uma diferença estatisticamente significativa entre as médias dos grupos.\")\n",
    "else:\n",
    "    print(\"Não há uma diferença estatisticamente significativa entre as médias dos grupos.\")"
   ],
   "id": "8323d4db112295e5",
   "outputs": [
    {
     "name": "stdout",
     "output_type": "stream",
     "text": [
      "Estatística t: -2.156098404660259, Valor p: 0.059443782360065846\n",
      "Não há uma diferença estatisticamente significativa entre as médias dos grupos.\n"
     ]
    }
   ],
   "execution_count": 1
  },
  {
   "metadata": {
    "ExecuteTime": {
     "end_time": "2025-08-30T18:45:33.674224Z",
     "start_time": "2025-08-30T18:45:33.663083Z"
    }
   },
   "cell_type": "code",
   "source": [
    "from scipy import stats\n",
    "\n",
    "# Exemplo de dados para três grupos\n",
    "grupo1 = np.array([1, 0.8, 1.9, 1.1, 2.7])\n",
    "grupo2 = np.array([1.7, 2.5, 3, 2.2, 3.7, 1.9])\n",
    "grupo3 = np.array([1, 1.3, 3.2, 1.4, 1.3, 2])\n",
    "grupo4 = np.array([3.8, 2.8, 1.9, 3, 2.5])\n",
    "\n",
    "# Realiza o teste F (ANOVA)\n",
    "f_statistic, p_value_f = stats.f_oneway(grupo1, grupo2, grupo3, grupo4)\n",
    "\n",
    "print(f\"Estatística F: {f_statistic}, Valor p: {p_value_f}\")\n",
    "\n",
    "if p_value_f < 0.05:\n",
    "    print(\"Há uma diferença estatisticamente significativa entre as médias de pelo menos um grupo.\")\n",
    "else:\n",
    "    print(\"Não há uma diferença estatisticamente significativa entre as médias dos grupos.\")"
   ],
   "id": "9ddeb82b881c13e9",
   "outputs": [
    {
     "name": "stdout",
     "output_type": "stream",
     "text": [
      "Estatística F: 3.532678602468275, Valor p: 0.035900082409744884\n",
      "Há uma diferença estatisticamente significativa entre as médias de pelo menos um grupo.\n"
     ]
    }
   ],
   "execution_count": 2
  },
  {
   "metadata": {
    "ExecuteTime": {
     "end_time": "2025-08-30T19:17:27.120343Z",
     "start_time": "2025-08-30T19:17:26.816771Z"
    }
   },
   "cell_type": "code",
   "source": [
    "from scipy import stats\n",
    "\n",
    "# Exemplo de dados para três grupos\n",
    "grupoA = np.array([1, 0.8, 1.9, 1.1, 2.7])\n",
    "grupoB = np.array([1.7, 2.5, 3, 2.2, 3.7, 1.9])\n",
    "grupoC = np.array([1, 1.3, 3.2, 1.4, 1.3, 2])\n",
    "grupoD = np.array([3.8, 2.8, 1.9, 3, 2.5])\n",
    "\n",
    "# Realiza o teste Tukey (DMS)\n",
    "tukey_result = stats.tukey_hsd(grupoA, grupoB, grupoC, grupoD)\n",
    "\n",
    "print(tukey_result)"
   ],
   "id": "90c4364c30cb3d58",
   "outputs": [
    {
     "name": "stdout",
     "output_type": "stream",
     "text": [
      "Tukey's HSD Pairwise Group Comparisons (95.0% Confidence Interval)\n",
      "Comparison  Statistic  p-value  Lower CI  Upper CI\n",
      " (0 - 1)     -1.000     0.171    -2.305     0.305\n",
      " (0 - 2)     -0.200     0.972    -1.505     1.105\n",
      " (0 - 3)     -1.300     0.065    -2.663     0.063\n",
      " (1 - 0)      1.000     0.171    -0.305     2.305\n",
      " (1 - 2)      0.800     0.298    -0.444     2.044\n",
      " (1 - 3)     -0.300     0.914    -1.605     1.005\n",
      " (2 - 0)      0.200     0.972    -1.105     1.505\n",
      " (2 - 1)     -0.800     0.298    -2.044     0.444\n",
      " (2 - 3)     -1.100     0.116    -2.405     0.205\n",
      " (3 - 0)      1.300     0.065    -0.063     2.663\n",
      " (3 - 1)      0.300     0.914    -1.005     1.605\n",
      " (3 - 2)      1.100     0.116    -0.205     2.405\n",
      "\n"
     ]
    }
   ],
   "execution_count": 5
  }
 ],
 "metadata": {
  "kernelspec": {
   "name": "python3",
   "language": "python",
   "display_name": "Python 3 (ipykernel)"
  }
 },
 "nbformat": 4,
 "nbformat_minor": 5
}
